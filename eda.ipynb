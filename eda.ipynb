{
 "cells": [
  {
   "cell_type": "markdown",
   "metadata": {},
   "source": [
    "# Explorative Data Analysis"
   ]
  },
  {
   "cell_type": "code",
   "execution_count": 1,
   "metadata": {},
   "outputs": [],
   "source": [
    "%load_ext autoreload\n",
    "%autoreload 2\n",
    "from data_loader import load_participants_info, load_event_descriptions, load_behavioral_data\n",
    "import pandas as pd"
   ]
  },
  {
   "cell_type": "code",
   "execution_count": 2,
   "metadata": {},
   "outputs": [],
   "source": [
    "DATASET_PATH = \"data\"\n",
    "participants_df = load_participants_info(DATASET_PATH)\n",
    "load_event_descriptions(DATASET_PATH)\n",
    "\n",
    "df_behavior = load_behavioral_data(DATASET_PATH, \"01\")\n",
    "for idx in range(2,11):\n",
    "    sample_participant = f\"0{idx}\"\n",
    "    df = load_behavioral_data(DATASET_PATH, sample_participant)\n",
    "    df_behavior = pd.concat([df, df_behavior], ignore_index=True)"
   ]
  },
  {
   "cell_type": "code",
   "execution_count": null,
   "metadata": {},
   "outputs": [],
   "source": [
    "df_behavior.head()"
   ]
  },
  {
   "cell_type": "code",
   "execution_count": null,
   "metadata": {},
   "outputs": [],
   "source": [
    "df_behavior['MemoryStrength'].value_counts()"
   ]
  },
  {
   "cell_type": "code",
   "execution_count": null,
   "metadata": {},
   "outputs": [],
   "source": [
    "df_behavior_clean = df_behavior[['Condition', 'onset', 'duration', 'PreEvent_PupilMax', 'Event_PupilDilation']].dropna()\n",
    "df_behavior_clean['Condition'] = df_behavior_clean['Condition'].astype('category')\n",
    "df_behavior_clean"
   ]
  },
  {
   "cell_type": "code",
   "execution_count": null,
   "metadata": {},
   "outputs": [],
   "source": [
    "import matplotlib.pyplot as plt\n",
    "import seaborn as sns\n",
    "\n",
    "plt.figure(figsize=(12, 6))\n",
    "\n",
    "# Distribution of PreEvent_PupilMax by Condition\n",
    "plt.subplot(1, 2, 1)\n",
    "sns.boxplot(x='Condition', y='PreEvent_PupilMax', data=df_behavior_clean)\n",
    "plt.title(\"Baseline Pupil Size (PreEvent_PupilMax) by Condition\")\n",
    "plt.xlabel(\"Condition\")\n",
    "plt.ylabel(\"PreEvent_PupilMax\")\n",
    "\n",
    "# Distribution of Event_PupilDilation by Condition\n",
    "plt.subplot(1, 2, 2)\n",
    "sns.boxplot(x='Condition', y='Event_PupilDilation', data=df_behavior_clean)\n",
    "plt.title(\"Pupil Dilation Response by Condition\")\n",
    "plt.xlabel(\"Condition\")\n",
    "plt.ylabel(\"Event_PupilDilation\")\n",
    "\n",
    "plt.tight_layout()\n",
    "plt.show()\n",
    "\n",
    "# Scatter plot of PreEvent_PupilMax vs Event_PupilDilation\n",
    "plt.figure(figsize=(8, 6))\n",
    "sns.scatterplot(x='PreEvent_PupilMax', y='Event_PupilDilation', hue='Condition', data=df_behavior_clean, alpha=0.7)\n",
    "plt.title(\"Baseline Pupil Size vs. Event Pupil Dilation\")\n",
    "plt.xlabel(\"PreEvent_PupilMax (Baseline Pupil Size)\")\n",
    "plt.ylabel(\"Event_PupilDilation (Task-Induced Dilation)\")\n",
    "plt.legend(title=\"Condition\")\n",
    "plt.show()\n",
    "\n",
    "# Correlation heatmap\n",
    "plt.figure(figsize=(8, 6))\n",
    "sns.heatmap(df_behavior_clean[['onset', 'duration', 'PreEvent_PupilMax', 'Event_PupilDilation']].corr(), annot=True, cmap=\"coolwarm\", fmt=\".2f\")\n",
    "plt.title(\"Correlation Between Pupil Metrics and Timing\")\n",
    "plt.show()\n"
   ]
  },
  {
   "cell_type": "code",
   "execution_count": null,
   "metadata": {},
   "outputs": [],
   "source": [
    "df_behavior['Condition'] = df_behavior['Condition'].astype('category')\n",
    "plt.figure(figsize=(12, 6))\n",
    "\n",
    "# 1. Distribution of Pupil Dilation (Event_PupilDilation) across Participants\n",
    "plt.subplot(2, 2, 1)\n",
    "sns.histplot(df_behavior['Event_PupilDilation'].dropna(), bins=30, kde=True)\n",
    "plt.title(\"Distribution of Event Pupil Dilation\")\n",
    "plt.xlabel(\"Event Pupil Dilation (arbitrary units)\")\n",
    "plt.ylabel(\"Frequency\")\n",
    "\n",
    "# 2. Boxplot of Event Pupil Dilation by Condition\n",
    "plt.subplot(2, 2, 2)\n",
    "sns.boxplot(x='Condition', y='Event_PupilDilation', data=df_behavior)\n",
    "plt.title(\"Pupil Dilation by Condition (Threat vs. Neutral)\")\n",
    "plt.xlabel(\"Condition\")\n",
    "plt.ylabel(\"Event Pupil Dilation\")\n",
    "\n",
    "# 3. Line plot: Pupil Dilation over Trial Number (to see trends)\n",
    "plt.subplot(2, 2, 3)\n",
    "sns.lineplot(x='TrialNumber', y='Event_PupilDilation', hue='Condition', data=df_behavior, ci=\"sd\")\n",
    "plt.title(\"Pupil Dilation Over Trials\")\n",
    "plt.xlabel(\"Trial Number\")\n",
    "plt.ylabel(\"Event Pupil Dilation\")\n",
    "\n",
    "# 4. Scatter plot: Memory Accuracy (SceneRem) vs. Pupil Dilation\n",
    "plt.subplot(2, 2, 4)\n",
    "sns.scatterplot(x='Event_PupilDilation', y='SceneRem', hue='Condition', data=df_behavior, alpha=0.7)\n",
    "plt.title(\"Pupil Dilation vs. Scene Memory Accuracy\")\n",
    "plt.xlabel(\"Event Pupil Dilation\")\n",
    "plt.ylabel(\"Scene Memory Accuracy\")\n",
    "\n",
    "plt.tight_layout()\n",
    "plt.show()"
   ]
  }
 ],
 "metadata": {
  "kernelspec": {
   "display_name": "cse251b",
   "language": "python",
   "name": "python3"
  },
  "language_info": {
   "codemirror_mode": {
    "name": "ipython",
    "version": 3
   },
   "file_extension": ".py",
   "mimetype": "text/x-python",
   "name": "python",
   "nbconvert_exporter": "python",
   "pygments_lexer": "ipython3",
   "version": "3.9.21"
  }
 },
 "nbformat": 4,
 "nbformat_minor": 2
}
